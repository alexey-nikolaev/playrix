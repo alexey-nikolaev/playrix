{
 "cells": [
  {
   "cell_type": "markdown",
   "metadata": {},
   "source": [
    "# Playrix Тестовое задание 1"
   ]
  },
  {
   "cell_type": "markdown",
   "metadata": {},
   "source": [
    "## Подготовка данных"
   ]
  },
  {
   "cell_type": "code",
   "execution_count": 1,
   "metadata": {},
   "outputs": [
    {
     "name": "stdout",
     "output_type": "stream",
     "text": [
      "Populating the interactive namespace from numpy and matplotlib\n"
     ]
    }
   ],
   "source": [
    "%pylab inline\n",
    "\n",
    "import pandas as pd\n",
    "import numpy as np\n",
    "\n",
    "import warnings\n",
    "warnings.filterwarnings(\"ignore\")"
   ]
  },
  {
   "cell_type": "markdown",
   "metadata": {},
   "source": [
    "Преобразуем в pandas dataframe файл с данными о продуктах: объединим две таблицы с семенами и промышленными товарами в одну, записав вид товара в отдельном столбце kind."
   ]
  },
  {
   "cell_type": "code",
   "execution_count": 2,
   "metadata": {
    "collapsed": true
   },
   "outputs": [],
   "source": [
    "f = open('product_info.csv')\n",
    "\n",
    "parsed = [filter(lambda x: x!='', line.decode('cp1251').rstrip().split('\\t')) for line in f]\n",
    "data = []\n",
    "\n",
    "columns_dict = {\n",
    "    u'id_product': 'product',\n",
    "    u'Время производства(мин)': 'production_time',\n",
    "    u'Время роста(мин)': 'production_time',\n",
    "    u'Название': 'name',\n",
    "    u'Стоимость покупки за кэш': 'price_to_buy',\n",
    "    u'Стоимость продажи из амбара': 'price_to_sell',\n",
    "    u'Уровень ввода': 'introduction_level'\n",
    "}\n",
    "\n",
    "for line in parsed:\n",
    "    if len(line) == 1:\n",
    "        kind = line[0]\n",
    "        start = True\n",
    "    elif len(line) > 1:\n",
    "        if start:\n",
    "            keys = ['kind'] + map(lambda x: columns_dict.get(x), line)\n",
    "            start = False\n",
    "        else:\n",
    "            values = [kind] + line\n",
    "            data.append({k: v for k, v in zip(keys, values)})\n",
    "            \n",
    "f.close()\n",
    "            \n",
    "products = pd.DataFrame(data)\n",
    "\n",
    "for col in ['introduction_level', 'price_to_buy', 'price_to_sell', 'production_time']:\n",
    "    products[col] = products[col].astype(int)"
   ]
  },
  {
   "cell_type": "markdown",
   "metadata": {},
   "source": [
    "Просмотрим первые строки получившейся таблицы."
   ]
  },
  {
   "cell_type": "code",
   "execution_count": 3,
   "metadata": {},
   "outputs": [
    {
     "data": {
      "text/html": [
       "<div>\n",
       "<style>\n",
       "    .dataframe thead tr:only-child th {\n",
       "        text-align: right;\n",
       "    }\n",
       "\n",
       "    .dataframe thead th {\n",
       "        text-align: left;\n",
       "    }\n",
       "\n",
       "    .dataframe tbody tr th {\n",
       "        vertical-align: top;\n",
       "    }\n",
       "</style>\n",
       "<table border=\"1\" class=\"dataframe\">\n",
       "  <thead>\n",
       "    <tr style=\"text-align: right;\">\n",
       "      <th></th>\n",
       "      <th>introduction_level</th>\n",
       "      <th>kind</th>\n",
       "      <th>name</th>\n",
       "      <th>price_to_buy</th>\n",
       "      <th>price_to_sell</th>\n",
       "      <th>product</th>\n",
       "      <th>production_time</th>\n",
       "    </tr>\n",
       "  </thead>\n",
       "  <tbody>\n",
       "    <tr>\n",
       "      <th>0</th>\n",
       "      <td>1</td>\n",
       "      <td>Семена</td>\n",
       "      <td>Пшеница</td>\n",
       "      <td>1</td>\n",
       "      <td>1</td>\n",
       "      <td>wheat</td>\n",
       "      <td>2</td>\n",
       "    </tr>\n",
       "    <tr>\n",
       "      <th>1</th>\n",
       "      <td>3</td>\n",
       "      <td>Семена</td>\n",
       "      <td>Кукуруза</td>\n",
       "      <td>1</td>\n",
       "      <td>3</td>\n",
       "      <td>corn</td>\n",
       "      <td>5</td>\n",
       "    </tr>\n",
       "    <tr>\n",
       "      <th>2</th>\n",
       "      <td>4</td>\n",
       "      <td>Семена</td>\n",
       "      <td>Морковь</td>\n",
       "      <td>2</td>\n",
       "      <td>5</td>\n",
       "      <td>carrot</td>\n",
       "      <td>10</td>\n",
       "    </tr>\n",
       "    <tr>\n",
       "      <th>3</th>\n",
       "      <td>6</td>\n",
       "      <td>Семена</td>\n",
       "      <td>Тыква</td>\n",
       "      <td>3</td>\n",
       "      <td>6</td>\n",
       "      <td>pumpkin</td>\n",
       "      <td>25</td>\n",
       "    </tr>\n",
       "    <tr>\n",
       "      <th>4</th>\n",
       "      <td>7</td>\n",
       "      <td>Семена</td>\n",
       "      <td>Тростник</td>\n",
       "      <td>3</td>\n",
       "      <td>7</td>\n",
       "      <td>sugarcane</td>\n",
       "      <td>20</td>\n",
       "    </tr>\n",
       "  </tbody>\n",
       "</table>\n",
       "</div>"
      ],
      "text/plain": [
       "   introduction_level    kind      name  price_to_buy  price_to_sell  \\\n",
       "0                   1  Семена   Пшеница             1              1   \n",
       "1                   3  Семена  Кукуруза             1              3   \n",
       "2                   4  Семена   Морковь             2              5   \n",
       "3                   6  Семена     Тыква             3              6   \n",
       "4                   7  Семена  Тростник             3              7   \n",
       "\n",
       "     product  production_time  \n",
       "0      wheat                2  \n",
       "1       corn                5  \n",
       "2     carrot               10  \n",
       "3    pumpkin               25  \n",
       "4  sugarcane               20  "
      ]
     },
     "execution_count": 3,
     "metadata": {},
     "output_type": "execute_result"
    }
   ],
   "source": [
    "products.head()"
   ]
  },
  {
   "cell_type": "markdown",
   "metadata": {},
   "source": [
    "Преобразуем в pandas dataframe файл  с данными по удаленным заказам: запишем в таблицу только те продукты, по которым были удаленные заказы, пустые ячейки обрабатывать не будем. "
   ]
  },
  {
   "cell_type": "code",
   "execution_count": 4,
   "metadata": {
    "collapsed": true
   },
   "outputs": [],
   "source": [
    "data = []\n",
    "\n",
    "f = open('refused_order_products.csv')\n",
    "\n",
    "for i, line in enumerate(f):\n",
    "    line = line.rstrip().split(',')\n",
    "    if i%3 == 0:\n",
    "        products_ = filter(lambda x: x!='', [s.replace('Refused [','').replace(']','') for s in line][1:])\n",
    "    elif i%3 == 1:\n",
    "        orders = map(int, filter(lambda x: x!='', line[1:]))\n",
    "        lvl = line[0]\n",
    "        \n",
    "        data.extend([{'level': lvl, 'product': p, 'orders': o} for p, o in zip(products_, orders)])\n",
    "        \n",
    "f.close()\n",
    "\n",
    "df = pd.DataFrame(data)"
   ]
  },
  {
   "cell_type": "markdown",
   "metadata": {},
   "source": [
    "Просмотрим первые строки получившейся таблицы."
   ]
  },
  {
   "cell_type": "code",
   "execution_count": 5,
   "metadata": {},
   "outputs": [
    {
     "data": {
      "text/html": [
       "<div>\n",
       "<style>\n",
       "    .dataframe thead tr:only-child th {\n",
       "        text-align: right;\n",
       "    }\n",
       "\n",
       "    .dataframe thead th {\n",
       "        text-align: left;\n",
       "    }\n",
       "\n",
       "    .dataframe tbody tr th {\n",
       "        vertical-align: top;\n",
       "    }\n",
       "</style>\n",
       "<table border=\"1\" class=\"dataframe\">\n",
       "  <thead>\n",
       "    <tr style=\"text-align: right;\">\n",
       "      <th></th>\n",
       "      <th>level</th>\n",
       "      <th>orders</th>\n",
       "      <th>product</th>\n",
       "    </tr>\n",
       "  </thead>\n",
       "  <tbody>\n",
       "    <tr>\n",
       "      <th>0</th>\n",
       "      <td>10-12</td>\n",
       "      <td>26584</td>\n",
       "      <td>wool</td>\n",
       "    </tr>\n",
       "    <tr>\n",
       "      <th>1</th>\n",
       "      <td>10-12</td>\n",
       "      <td>25804</td>\n",
       "      <td>woolfabric</td>\n",
       "    </tr>\n",
       "    <tr>\n",
       "      <th>2</th>\n",
       "      <td>10-12</td>\n",
       "      <td>22175</td>\n",
       "      <td>corn</td>\n",
       "    </tr>\n",
       "    <tr>\n",
       "      <th>3</th>\n",
       "      <td>10-12</td>\n",
       "      <td>21901</td>\n",
       "      <td>carrot</td>\n",
       "    </tr>\n",
       "    <tr>\n",
       "      <th>4</th>\n",
       "      <td>10-12</td>\n",
       "      <td>21218</td>\n",
       "      <td>sugarcane</td>\n",
       "    </tr>\n",
       "  </tbody>\n",
       "</table>\n",
       "</div>"
      ],
      "text/plain": [
       "   level  orders     product\n",
       "0  10-12   26584        wool\n",
       "1  10-12   25804  woolfabric\n",
       "2  10-12   22175        corn\n",
       "3  10-12   21901      carrot\n",
       "4  10-12   21218   sugarcane"
      ]
     },
     "execution_count": 5,
     "metadata": {},
     "output_type": "execute_result"
    }
   ],
   "source": [
    "df.head()"
   ]
  },
  {
   "cell_type": "markdown",
   "metadata": {},
   "source": [
    "Теперь дополним эту таблицу информацией о продуктах, которые уже были доступны, но по которым удаленных заказов не было: в этом случае запишем 0. Для этого составим полное декартово произведение продуктов и уровней products_levels, оставим только продукты, которые уже были доступны, и соединим полученную таблицу с таблицей df."
   ]
  },
  {
   "cell_type": "code",
   "execution_count": 6,
   "metadata": {},
   "outputs": [
    {
     "data": {
      "text/html": [
       "<div>\n",
       "<style>\n",
       "    .dataframe thead tr:only-child th {\n",
       "        text-align: right;\n",
       "    }\n",
       "\n",
       "    .dataframe thead th {\n",
       "        text-align: left;\n",
       "    }\n",
       "\n",
       "    .dataframe tbody tr th {\n",
       "        vertical-align: top;\n",
       "    }\n",
       "</style>\n",
       "<table border=\"1\" class=\"dataframe\">\n",
       "  <thead>\n",
       "    <tr style=\"text-align: right;\">\n",
       "      <th></th>\n",
       "      <th>product</th>\n",
       "      <th>introduction_level</th>\n",
       "      <th>level</th>\n",
       "      <th>upper_bound</th>\n",
       "    </tr>\n",
       "  </thead>\n",
       "  <tbody>\n",
       "    <tr>\n",
       "      <th>0</th>\n",
       "      <td>wheat</td>\n",
       "      <td>1</td>\n",
       "      <td>10-12</td>\n",
       "      <td>12</td>\n",
       "    </tr>\n",
       "    <tr>\n",
       "      <th>1</th>\n",
       "      <td>wheat</td>\n",
       "      <td>1</td>\n",
       "      <td>13-15</td>\n",
       "      <td>15</td>\n",
       "    </tr>\n",
       "    <tr>\n",
       "      <th>2</th>\n",
       "      <td>wheat</td>\n",
       "      <td>1</td>\n",
       "      <td>16-19</td>\n",
       "      <td>19</td>\n",
       "    </tr>\n",
       "    <tr>\n",
       "      <th>3</th>\n",
       "      <td>wheat</td>\n",
       "      <td>1</td>\n",
       "      <td>20-23</td>\n",
       "      <td>23</td>\n",
       "    </tr>\n",
       "    <tr>\n",
       "      <th>4</th>\n",
       "      <td>wheat</td>\n",
       "      <td>1</td>\n",
       "      <td>24-28</td>\n",
       "      <td>28</td>\n",
       "    </tr>\n",
       "  </tbody>\n",
       "</table>\n",
       "</div>"
      ],
      "text/plain": [
       "  product  introduction_level  level  upper_bound\n",
       "0   wheat                   1  10-12           12\n",
       "1   wheat                   1  13-15           15\n",
       "2   wheat                   1  16-19           19\n",
       "3   wheat                   1  20-23           23\n",
       "4   wheat                   1  24-28           28"
      ]
     },
     "execution_count": 6,
     "metadata": {},
     "output_type": "execute_result"
    }
   ],
   "source": [
    "levels = df.level.unique().tolist()\n",
    "levels = pd.DataFrame(\n",
    "    [{'level': l, 'upper_bound': u, 'key': 'key'} for l, u in zip(levels, map(lambda x: int(x.split('-')[1]), levels))]\n",
    ")\n",
    "\n",
    "products_levels = products.loc[:, ['product', 'introduction_level']]\n",
    "products_levels.loc[:, 'key'] = 'key'\n",
    "products_levels = products_levels.merge(levels, on='key')\n",
    "products_levels.drop('key', 1, inplace=True)\n",
    "\n",
    "products_levels = products_levels[products_levels.introduction_level <= products_levels.upper_bound]\n",
    "products_levels.head()"
   ]
  },
  {
   "cell_type": "code",
   "execution_count": 7,
   "metadata": {},
   "outputs": [
    {
     "data": {
      "text/html": [
       "<div>\n",
       "<style>\n",
       "    .dataframe thead tr:only-child th {\n",
       "        text-align: right;\n",
       "    }\n",
       "\n",
       "    .dataframe thead th {\n",
       "        text-align: left;\n",
       "    }\n",
       "\n",
       "    .dataframe tbody tr th {\n",
       "        vertical-align: top;\n",
       "    }\n",
       "</style>\n",
       "<table border=\"1\" class=\"dataframe\">\n",
       "  <thead>\n",
       "    <tr style=\"text-align: right;\">\n",
       "      <th></th>\n",
       "      <th>product</th>\n",
       "      <th>level</th>\n",
       "      <th>orders</th>\n",
       "    </tr>\n",
       "  </thead>\n",
       "  <tbody>\n",
       "    <tr>\n",
       "      <th>0</th>\n",
       "      <td>wheat</td>\n",
       "      <td>10-12</td>\n",
       "      <td>19202.0</td>\n",
       "    </tr>\n",
       "    <tr>\n",
       "      <th>1</th>\n",
       "      <td>wheat</td>\n",
       "      <td>13-15</td>\n",
       "      <td>21255.0</td>\n",
       "    </tr>\n",
       "    <tr>\n",
       "      <th>2</th>\n",
       "      <td>wheat</td>\n",
       "      <td>16-19</td>\n",
       "      <td>38051.0</td>\n",
       "    </tr>\n",
       "    <tr>\n",
       "      <th>3</th>\n",
       "      <td>wheat</td>\n",
       "      <td>20-23</td>\n",
       "      <td>40604.0</td>\n",
       "    </tr>\n",
       "    <tr>\n",
       "      <th>4</th>\n",
       "      <td>wheat</td>\n",
       "      <td>24-28</td>\n",
       "      <td>39953.0</td>\n",
       "    </tr>\n",
       "  </tbody>\n",
       "</table>\n",
       "</div>"
      ],
      "text/plain": [
       "  product  level   orders\n",
       "0   wheat  10-12  19202.0\n",
       "1   wheat  13-15  21255.0\n",
       "2   wheat  16-19  38051.0\n",
       "3   wheat  20-23  40604.0\n",
       "4   wheat  24-28  39953.0"
      ]
     },
     "execution_count": 7,
     "metadata": {},
     "output_type": "execute_result"
    }
   ],
   "source": [
    "df = products_levels.merge(df, how='left', on=['product', 'level']).fillna(0)\n",
    "df = df[['product', 'level', 'orders']]\n",
    "df.head()"
   ]
  },
  {
   "cell_type": "markdown",
   "metadata": {},
   "source": [
    "Теперь у нас есть полный набор данных с информацией о числе удаленных заказов по всем доступным на каждом уровне продуктам."
   ]
  },
  {
   "cell_type": "markdown",
   "metadata": {},
   "source": [
    "## Построение рейтинга продуктов по частоте удаления"
   ]
  },
  {
   "cell_type": "markdown",
   "metadata": {},
   "source": [
    "Посмотрим, как менялось число продуктов в удаленных заказах (product, count), общее число удаленных заказов (orders, sum) и среднее число удаленных заказов на один продукт (orders, mean) в зависимости от уровня."
   ]
  },
  {
   "cell_type": "code",
   "execution_count": 8,
   "metadata": {
    "collapsed": true
   },
   "outputs": [],
   "source": [
    "params = {'legend.fontsize': 'large',\n",
    "          'figure.figsize': (15, 10),\n",
    "         'axes.labelsize': 'large',\n",
    "         'axes.titlesize':'large',\n",
    "         'xtick.labelsize':'large',\n",
    "         'ytick.labelsize':'large',\n",
    "         'axes.grid': True}\n",
    "pylab.rcParams.update(params)"
   ]
  },
  {
   "cell_type": "code",
   "execution_count": 9,
   "metadata": {
    "collapsed": true
   },
   "outputs": [],
   "source": [
    "pd.set_option('display.precision', 3)"
   ]
  },
  {
   "cell_type": "code",
   "execution_count": 10,
   "metadata": {},
   "outputs": [
    {
     "data": {
      "text/plain": [
       "array([<matplotlib.axes._subplots.AxesSubplot object at 0x10946b310>,\n",
       "       <matplotlib.axes._subplots.AxesSubplot object at 0x111b73110>,\n",
       "       <matplotlib.axes._subplots.AxesSubplot object at 0x111bb1ad0>], dtype=object)"
      ]
     },
     "execution_count": 10,
     "metadata": {},
     "output_type": "execute_result"
    },
    {
     "data": {
      "image/png": "[encoded data removed]",
      "text/plain": [
       "<matplotlib.figure.Figure at 0x10cb1f890>"
      ]
     },
     "metadata": {},
     "output_type": "display_data"
    }
   ],
   "source": [
    "df.groupby('level').agg({'orders': ['sum', 'mean'], 'product': 'count'}).plot(subplots=True)"
   ]
  },
  {
   "cell_type": "markdown",
   "metadata": {},
   "source": [
    "Видим, что число удаленных заказов постоянно растет с ростом уровня, растет и среднее число удаленных заказов на один продукт. По всей видимости, с ростом уровня игрок может выполнять все больше заказов. Поэтому абсолютные числа удаленных заказов для построения рейтинга наиболее часто удаляемых продуктов использовать нельзя, перейдем к относительным показателям: среднему рангу avg_rank, средней доле от общего числа удаленных заказов по уровням avg_share, среднему отношению числа удаленных заказов с данным продуктом к среднему числу удаленных заказов на продукт на данном уровне avg_normed."
   ]
  },
  {
   "cell_type": "markdown",
   "metadata": {},
   "source": [
    "Посчитаем для каждой группы уровней доли продуктов в общем числе удаленных заказов."
   ]
  },
  {
   "cell_type": "code",
   "execution_count": 11,
   "metadata": {},
   "outputs": [
    {
     "data": {
      "text/html": [
       "<div>\n",
       "<style>\n",
       "    .dataframe thead tr:only-child th {\n",
       "        text-align: right;\n",
       "    }\n",
       "\n",
       "    .dataframe thead th {\n",
       "        text-align: left;\n",
       "    }\n",
       "\n",
       "    .dataframe tbody tr th {\n",
       "        vertical-align: top;\n",
       "    }\n",
       "</style>\n",
       "<table border=\"1\" class=\"dataframe\">\n",
       "  <thead>\n",
       "    <tr style=\"text-align: right;\">\n",
       "      <th></th>\n",
       "      <th>level</th>\n",
       "      <th>product</th>\n",
       "      <th>share</th>\n",
       "    </tr>\n",
       "  </thead>\n",
       "  <tbody>\n",
       "    <tr>\n",
       "      <th>0</th>\n",
       "      <td>10-12</td>\n",
       "      <td>bagel</td>\n",
       "      <td>0.052</td>\n",
       "    </tr>\n",
       "    <tr>\n",
       "      <th>1</th>\n",
       "      <td>10-12</td>\n",
       "      <td>bread</td>\n",
       "      <td>0.057</td>\n",
       "    </tr>\n",
       "    <tr>\n",
       "      <th>2</th>\n",
       "      <td>10-12</td>\n",
       "      <td>butter</td>\n",
       "      <td>0.042</td>\n",
       "    </tr>\n",
       "    <tr>\n",
       "      <th>3</th>\n",
       "      <td>10-12</td>\n",
       "      <td>carrot</td>\n",
       "      <td>0.060</td>\n",
       "    </tr>\n",
       "    <tr>\n",
       "      <th>4</th>\n",
       "      <td>10-12</td>\n",
       "      <td>cheese</td>\n",
       "      <td>0.053</td>\n",
       "    </tr>\n",
       "  </tbody>\n",
       "</table>\n",
       "</div>"
      ],
      "text/plain": [
       "   level product  share\n",
       "0  10-12   bagel  0.052\n",
       "1  10-12   bread  0.057\n",
       "2  10-12  butter  0.042\n",
       "3  10-12  carrot  0.060\n",
       "4  10-12  cheese  0.053"
      ]
     },
     "execution_count": 11,
     "metadata": {},
     "output_type": "execute_result"
    }
   ],
   "source": [
    "shares = df.groupby(['level', 'product']).orders.sum().groupby(level=0).apply(lambda x: x / float(x.sum()))\n",
    "shares = shares.reset_index()\n",
    "shares.columns = ['level', 'product', 'share']\n",
    "shares.head()"
   ]
  },
  {
   "cell_type": "markdown",
   "metadata": {},
   "source": [
    "Теперь для каждого продукта посчитаем среднюю долю по всем группам уровней avg_share. Затем выведем топ-10 удаляемых продуктов по этой метрике: в данном случае в числе лидеров шерсть, резина, попкорн, шерстяная ткань и морковь."
   ]
  },
  {
   "cell_type": "code",
   "execution_count": 12,
   "metadata": {},
   "outputs": [
    {
     "data": {
      "text/html": [
       "<div>\n",
       "<style>\n",
       "    .dataframe thead tr:only-child th {\n",
       "        text-align: right;\n",
       "    }\n",
       "\n",
       "    .dataframe thead th {\n",
       "        text-align: left;\n",
       "    }\n",
       "\n",
       "    .dataframe tbody tr th {\n",
       "        vertical-align: top;\n",
       "    }\n",
       "</style>\n",
       "<table border=\"1\" class=\"dataframe\">\n",
       "  <thead>\n",
       "    <tr style=\"text-align: right;\">\n",
       "      <th></th>\n",
       "      <th>product</th>\n",
       "      <th>avg_share</th>\n",
       "    </tr>\n",
       "  </thead>\n",
       "  <tbody>\n",
       "    <tr>\n",
       "      <th>0</th>\n",
       "      <td>wool</td>\n",
       "      <td>0.043</td>\n",
       "    </tr>\n",
       "    <tr>\n",
       "      <th>1</th>\n",
       "      <td>rubber</td>\n",
       "      <td>0.041</td>\n",
       "    </tr>\n",
       "    <tr>\n",
       "      <th>2</th>\n",
       "      <td>popcorn</td>\n",
       "      <td>0.040</td>\n",
       "    </tr>\n",
       "    <tr>\n",
       "      <th>3</th>\n",
       "      <td>woolfabric</td>\n",
       "      <td>0.037</td>\n",
       "    </tr>\n",
       "    <tr>\n",
       "      <th>4</th>\n",
       "      <td>carrot</td>\n",
       "      <td>0.035</td>\n",
       "    </tr>\n",
       "    <tr>\n",
       "      <th>5</th>\n",
       "      <td>shirt</td>\n",
       "      <td>0.035</td>\n",
       "    </tr>\n",
       "    <tr>\n",
       "      <th>6</th>\n",
       "      <td>bread</td>\n",
       "      <td>0.035</td>\n",
       "    </tr>\n",
       "    <tr>\n",
       "      <th>7</th>\n",
       "      <td>egg</td>\n",
       "      <td>0.035</td>\n",
       "    </tr>\n",
       "    <tr>\n",
       "      <th>8</th>\n",
       "      <td>paper</td>\n",
       "      <td>0.035</td>\n",
       "    </tr>\n",
       "    <tr>\n",
       "      <th>9</th>\n",
       "      <td>cream</td>\n",
       "      <td>0.034</td>\n",
       "    </tr>\n",
       "  </tbody>\n",
       "</table>\n",
       "</div>"
      ],
      "text/plain": [
       "      product  avg_share\n",
       "0        wool      0.043\n",
       "1      rubber      0.041\n",
       "2     popcorn      0.040\n",
       "3  woolfabric      0.037\n",
       "4      carrot      0.035\n",
       "5       shirt      0.035\n",
       "6       bread      0.035\n",
       "7         egg      0.035\n",
       "8       paper      0.035\n",
       "9       cream      0.034"
      ]
     },
     "execution_count": 12,
     "metadata": {},
     "output_type": "execute_result"
    }
   ],
   "source": [
    "avg_shares = shares.groupby('product').share.mean().reset_index()\n",
    "avg_shares.columns = ['product', 'avg_share']\n",
    "avg_shares.sort_values(by='avg_share', ascending=False, inplace=True)\n",
    "avg_shares = avg_shares.reset_index(drop=True)\n",
    "avg_shares.head(10)"
   ]
  },
  {
   "cell_type": "markdown",
   "metadata": {},
   "source": [
    "Попробуем построить топ-10 по другой относительной метрике - среднему рангу."
   ]
  },
  {
   "cell_type": "code",
   "execution_count": 13,
   "metadata": {},
   "outputs": [
    {
     "data": {
      "text/html": [
       "<div>\n",
       "<style>\n",
       "    .dataframe thead tr:only-child th {\n",
       "        text-align: right;\n",
       "    }\n",
       "\n",
       "    .dataframe thead th {\n",
       "        text-align: left;\n",
       "    }\n",
       "\n",
       "    .dataframe tbody tr th {\n",
       "        vertical-align: top;\n",
       "    }\n",
       "</style>\n",
       "<table border=\"1\" class=\"dataframe\">\n",
       "  <thead>\n",
       "    <tr style=\"text-align: right;\">\n",
       "      <th></th>\n",
       "      <th>level</th>\n",
       "      <th>product</th>\n",
       "      <th>rank</th>\n",
       "    </tr>\n",
       "  </thead>\n",
       "  <tbody>\n",
       "    <tr>\n",
       "      <th>0</th>\n",
       "      <td>10-12</td>\n",
       "      <td>bagel</td>\n",
       "      <td>12.0</td>\n",
       "    </tr>\n",
       "    <tr>\n",
       "      <th>1</th>\n",
       "      <td>10-12</td>\n",
       "      <td>bread</td>\n",
       "      <td>7.0</td>\n",
       "    </tr>\n",
       "    <tr>\n",
       "      <th>2</th>\n",
       "      <td>10-12</td>\n",
       "      <td>butter</td>\n",
       "      <td>18.0</td>\n",
       "    </tr>\n",
       "    <tr>\n",
       "      <th>3</th>\n",
       "      <td>10-12</td>\n",
       "      <td>carrot</td>\n",
       "      <td>4.0</td>\n",
       "    </tr>\n",
       "    <tr>\n",
       "      <th>4</th>\n",
       "      <td>10-12</td>\n",
       "      <td>cheese</td>\n",
       "      <td>10.0</td>\n",
       "    </tr>\n",
       "  </tbody>\n",
       "</table>\n",
       "</div>"
      ],
      "text/plain": [
       "   level product  rank\n",
       "0  10-12   bagel  12.0\n",
       "1  10-12   bread   7.0\n",
       "2  10-12  butter  18.0\n",
       "3  10-12  carrot   4.0\n",
       "4  10-12  cheese  10.0"
      ]
     },
     "execution_count": 13,
     "metadata": {},
     "output_type": "execute_result"
    }
   ],
   "source": [
    "ranks = df.groupby(['level', 'product']).orders.sum().groupby(level=0).rank(ascending=False)\n",
    "ranks = ranks.reset_index()\n",
    "ranks.columns = ['level', 'product', 'rank']\n",
    "ranks.head()"
   ]
  },
  {
   "cell_type": "code",
   "execution_count": 14,
   "metadata": {},
   "outputs": [
    {
     "data": {
      "text/html": [
       "<div>\n",
       "<style>\n",
       "    .dataframe thead tr:only-child th {\n",
       "        text-align: right;\n",
       "    }\n",
       "\n",
       "    .dataframe thead th {\n",
       "        text-align: left;\n",
       "    }\n",
       "\n",
       "    .dataframe tbody tr th {\n",
       "        vertical-align: top;\n",
       "    }\n",
       "</style>\n",
       "<table border=\"1\" class=\"dataframe\">\n",
       "  <thead>\n",
       "    <tr style=\"text-align: right;\">\n",
       "      <th></th>\n",
       "      <th>product</th>\n",
       "      <th>avg_rank</th>\n",
       "    </tr>\n",
       "  </thead>\n",
       "  <tbody>\n",
       "    <tr>\n",
       "      <th>0</th>\n",
       "      <td>rubber</td>\n",
       "      <td>1.000</td>\n",
       "    </tr>\n",
       "    <tr>\n",
       "      <th>1</th>\n",
       "      <td>paper</td>\n",
       "      <td>3.000</td>\n",
       "    </tr>\n",
       "    <tr>\n",
       "      <th>2</th>\n",
       "      <td>wool</td>\n",
       "      <td>3.167</td>\n",
       "    </tr>\n",
       "    <tr>\n",
       "      <th>3</th>\n",
       "      <td>caramel</td>\n",
       "      <td>4.500</td>\n",
       "    </tr>\n",
       "    <tr>\n",
       "      <th>4</th>\n",
       "      <td>popcorn</td>\n",
       "      <td>5.600</td>\n",
       "    </tr>\n",
       "    <tr>\n",
       "      <th>5</th>\n",
       "      <td>carrot</td>\n",
       "      <td>7.667</td>\n",
       "    </tr>\n",
       "    <tr>\n",
       "      <th>6</th>\n",
       "      <td>muffin</td>\n",
       "      <td>10.500</td>\n",
       "    </tr>\n",
       "    <tr>\n",
       "      <th>7</th>\n",
       "      <td>cornchips</td>\n",
       "      <td>11.500</td>\n",
       "    </tr>\n",
       "    <tr>\n",
       "      <th>8</th>\n",
       "      <td>corn</td>\n",
       "      <td>11.667</td>\n",
       "    </tr>\n",
       "    <tr>\n",
       "      <th>9</th>\n",
       "      <td>milkshake</td>\n",
       "      <td>11.750</td>\n",
       "    </tr>\n",
       "  </tbody>\n",
       "</table>\n",
       "</div>"
      ],
      "text/plain": [
       "     product  avg_rank\n",
       "0     rubber     1.000\n",
       "1      paper     3.000\n",
       "2       wool     3.167\n",
       "3    caramel     4.500\n",
       "4    popcorn     5.600\n",
       "5     carrot     7.667\n",
       "6     muffin    10.500\n",
       "7  cornchips    11.500\n",
       "8       corn    11.667\n",
       "9  milkshake    11.750"
      ]
     },
     "execution_count": 14,
     "metadata": {},
     "output_type": "execute_result"
    }
   ],
   "source": [
    "avg_ranks = ranks.groupby('product')['rank'].mean().reset_index()\n",
    "avg_ranks.columns = ['product', 'avg_rank']\n",
    "avg_ranks.sort_values(by='avg_rank', ascending=True, inplace=True)\n",
    "avg_ranks = avg_ranks.reset_index(drop=True)\n",
    "avg_ranks.head(10)"
   ]
  },
  {
   "cell_type": "markdown",
   "metadata": {},
   "source": [
    "По этому показателю лидерами оказались резина, бумага, шерсть, карамель и попкорн."
   ]
  },
  {
   "cell_type": "markdown",
   "metadata": {},
   "source": [
    "Наконец, построим рейтинг по третьей метрике: нормируем число удаленных заказов на среднее по группе уровней, и потом посчитаем по полученным значениям среднее."
   ]
  },
  {
   "cell_type": "code",
   "execution_count": 15,
   "metadata": {},
   "outputs": [
    {
     "data": {
      "text/html": [
       "<div>\n",
       "<style>\n",
       "    .dataframe thead tr:only-child th {\n",
       "        text-align: right;\n",
       "    }\n",
       "\n",
       "    .dataframe thead th {\n",
       "        text-align: left;\n",
       "    }\n",
       "\n",
       "    .dataframe tbody tr th {\n",
       "        vertical-align: top;\n",
       "    }\n",
       "</style>\n",
       "<table border=\"1\" class=\"dataframe\">\n",
       "  <thead>\n",
       "    <tr style=\"text-align: right;\">\n",
       "      <th></th>\n",
       "      <th>level</th>\n",
       "      <th>product</th>\n",
       "      <th>normed</th>\n",
       "    </tr>\n",
       "  </thead>\n",
       "  <tbody>\n",
       "    <tr>\n",
       "      <th>0</th>\n",
       "      <td>10-12</td>\n",
       "      <td>bagel</td>\n",
       "      <td>1.248</td>\n",
       "    </tr>\n",
       "    <tr>\n",
       "      <th>1</th>\n",
       "      <td>10-12</td>\n",
       "      <td>bread</td>\n",
       "      <td>1.358</td>\n",
       "    </tr>\n",
       "    <tr>\n",
       "      <th>2</th>\n",
       "      <td>10-12</td>\n",
       "      <td>butter</td>\n",
       "      <td>1.015</td>\n",
       "    </tr>\n",
       "    <tr>\n",
       "      <th>3</th>\n",
       "      <td>10-12</td>\n",
       "      <td>carrot</td>\n",
       "      <td>1.451</td>\n",
       "    </tr>\n",
       "    <tr>\n",
       "      <th>4</th>\n",
       "      <td>10-12</td>\n",
       "      <td>cheese</td>\n",
       "      <td>1.278</td>\n",
       "    </tr>\n",
       "  </tbody>\n",
       "</table>\n",
       "</div>"
      ],
      "text/plain": [
       "   level product  normed\n",
       "0  10-12   bagel   1.248\n",
       "1  10-12   bread   1.358\n",
       "2  10-12  butter   1.015\n",
       "3  10-12  carrot   1.451\n",
       "4  10-12  cheese   1.278"
      ]
     },
     "execution_count": 15,
     "metadata": {},
     "output_type": "execute_result"
    }
   ],
   "source": [
    "normed = df.groupby(['level', 'product']).orders.sum().groupby(level=0).apply(lambda x: x / float(x.mean()))\n",
    "normed = normed.reset_index()\n",
    "normed.columns = ['level', 'product', 'normed']\n",
    "normed.head()"
   ]
  },
  {
   "cell_type": "code",
   "execution_count": 16,
   "metadata": {},
   "outputs": [
    {
     "data": {
      "text/html": [
       "<div>\n",
       "<style>\n",
       "    .dataframe thead tr:only-child th {\n",
       "        text-align: right;\n",
       "    }\n",
       "\n",
       "    .dataframe thead th {\n",
       "        text-align: left;\n",
       "    }\n",
       "\n",
       "    .dataframe tbody tr th {\n",
       "        vertical-align: top;\n",
       "    }\n",
       "</style>\n",
       "<table border=\"1\" class=\"dataframe\">\n",
       "  <thead>\n",
       "    <tr style=\"text-align: right;\">\n",
       "      <th></th>\n",
       "      <th>product</th>\n",
       "      <th>avg_normed</th>\n",
       "    </tr>\n",
       "  </thead>\n",
       "  <tbody>\n",
       "    <tr>\n",
       "      <th>0</th>\n",
       "      <td>rubber</td>\n",
       "      <td>2.584</td>\n",
       "    </tr>\n",
       "    <tr>\n",
       "      <th>1</th>\n",
       "      <td>muffin</td>\n",
       "      <td>1.747</td>\n",
       "    </tr>\n",
       "    <tr>\n",
       "      <th>2</th>\n",
       "      <td>paper</td>\n",
       "      <td>1.634</td>\n",
       "    </tr>\n",
       "    <tr>\n",
       "      <th>3</th>\n",
       "      <td>popcorn</td>\n",
       "      <td>1.595</td>\n",
       "    </tr>\n",
       "    <tr>\n",
       "      <th>4</th>\n",
       "      <td>wool</td>\n",
       "      <td>1.578</td>\n",
       "    </tr>\n",
       "    <tr>\n",
       "      <th>5</th>\n",
       "      <td>milkshake</td>\n",
       "      <td>1.474</td>\n",
       "    </tr>\n",
       "    <tr>\n",
       "      <th>6</th>\n",
       "      <td>icecream</td>\n",
       "      <td>1.465</td>\n",
       "    </tr>\n",
       "    <tr>\n",
       "      <th>7</th>\n",
       "      <td>caramel</td>\n",
       "      <td>1.407</td>\n",
       "    </tr>\n",
       "    <tr>\n",
       "      <th>8</th>\n",
       "      <td>carrot</td>\n",
       "      <td>1.348</td>\n",
       "    </tr>\n",
       "    <tr>\n",
       "      <th>9</th>\n",
       "      <td>shirt</td>\n",
       "      <td>1.305</td>\n",
       "    </tr>\n",
       "  </tbody>\n",
       "</table>\n",
       "</div>"
      ],
      "text/plain": [
       "     product  avg_normed\n",
       "0     rubber       2.584\n",
       "1     muffin       1.747\n",
       "2      paper       1.634\n",
       "3    popcorn       1.595\n",
       "4       wool       1.578\n",
       "5  milkshake       1.474\n",
       "6   icecream       1.465\n",
       "7    caramel       1.407\n",
       "8     carrot       1.348\n",
       "9      shirt       1.305"
      ]
     },
     "execution_count": 16,
     "metadata": {},
     "output_type": "execute_result"
    }
   ],
   "source": [
    "avg_normed = normed.groupby('product')['normed'].mean().reset_index()\n",
    "avg_normed.columns = ['product', 'avg_normed']\n",
    "avg_normed.sort_values(by='avg_normed', ascending=False, inplace=True)\n",
    "avg_normed = avg_normed.reset_index(drop=True)\n",
    "avg_normed.head(10)"
   ]
  },
  {
   "cell_type": "markdown",
   "metadata": {},
   "source": [
    "По данной метрике лидер снова резина, также в топ-5 попали маффин, бумага, попкорн и шерсть."
   ]
  },
  {
   "cell_type": "markdown",
   "metadata": {},
   "source": [
    "В условиях данной задачи наиболее правильной для построения рейтинга мне кажется третья метрика. "
   ]
  },
  {
   "cell_type": "markdown",
   "metadata": {},
   "source": [
    "На низких уровнях доступных продуктов еще немного, поэтому получить высокую долю легче. В результате по этой метрике в лидеры вырывается топовый продукт первой группы уровней - шерсть."
   ]
  },
  {
   "cell_type": "markdown",
   "metadata": {},
   "source": [
    "Средний ранг не позволяет адекватно оценить близкие, но разные значения: в данных часто встречаются случаи, когда число удаленных заказов по ряду продуктов на данном уровне примерно одинаковое, при этом ранг они получают разный. Например, на уровне 13-15 шерстяная ткань имеет 33 658 удаленных заказов, хлеб 33 065, сахар 32 890, яйца 32 795. Числа очень близкие, при этом ранги у них будут 4,5,6,7, то есть, будут различаться почти в 2 раза, при этом порядок получается в значительной степени случайным."
   ]
  },
  {
   "cell_type": "markdown",
   "metadata": {},
   "source": [
    "Последняя метрика лишена описанных выше недостатков."
   ]
  },
  {
   "cell_type": "markdown",
   "metadata": {},
   "source": [
    "## Выявление причин удаления продуктов: статистическое моделирование"
   ]
  },
  {
   "cell_type": "markdown",
   "metadata": {},
   "source": [
    "Так как нам необходимо не предсказать частоту удаления продуктов, а выявить причины частого удаления, законы, связывающие между собой показатели, вместо методов машинного обучения мы будем использовать методы статистического (или эконометрического) моделирования."
   ]
  },
  {
   "cell_type": "markdown",
   "metadata": {},
   "source": [
    "Мы будем пытаться объяснить значения рассчитанных выше метрик, характеризующих частоту удаления заказов с данным продуктом, параметрами продуктов, записанными в таблице products."
   ]
  },
  {
   "cell_type": "markdown",
   "metadata": {},
   "source": [
    "Построим матрицу парных корреляций для количественных признаков. Если корреляция какой-то пары будет слишком высокой (более 0.9), один из признаков в паре избыточен. В данном случае такого не наблюдается."
   ]
  },
  {
   "cell_type": "code",
   "execution_count": 17,
   "metadata": {},
   "outputs": [
    {
     "data": {
      "text/html": [
       "<div>\n",
       "<style>\n",
       "    .dataframe thead tr:only-child th {\n",
       "        text-align: right;\n",
       "    }\n",
       "\n",
       "    .dataframe thead th {\n",
       "        text-align: left;\n",
       "    }\n",
       "\n",
       "    .dataframe tbody tr th {\n",
       "        vertical-align: top;\n",
       "    }\n",
       "</style>\n",
       "<table border=\"1\" class=\"dataframe\">\n",
       "  <thead>\n",
       "    <tr style=\"text-align: right;\">\n",
       "      <th></th>\n",
       "      <th>introduction_level</th>\n",
       "      <th>price_to_buy</th>\n",
       "      <th>price_to_sell</th>\n",
       "      <th>production_time</th>\n",
       "    </tr>\n",
       "  </thead>\n",
       "  <tbody>\n",
       "    <tr>\n",
       "      <th>introduction_level</th>\n",
       "      <td>1.000</td>\n",
       "      <td>0.738</td>\n",
       "      <td>0.638</td>\n",
       "      <td>0.354</td>\n",
       "    </tr>\n",
       "    <tr>\n",
       "      <th>price_to_buy</th>\n",
       "      <td>0.738</td>\n",
       "      <td>1.000</td>\n",
       "      <td>0.787</td>\n",
       "      <td>0.120</td>\n",
       "    </tr>\n",
       "    <tr>\n",
       "      <th>price_to_sell</th>\n",
       "      <td>0.638</td>\n",
       "      <td>0.787</td>\n",
       "      <td>1.000</td>\n",
       "      <td>0.048</td>\n",
       "    </tr>\n",
       "    <tr>\n",
       "      <th>production_time</th>\n",
       "      <td>0.354</td>\n",
       "      <td>0.120</td>\n",
       "      <td>0.048</td>\n",
       "      <td>1.000</td>\n",
       "    </tr>\n",
       "  </tbody>\n",
       "</table>\n",
       "</div>"
      ],
      "text/plain": [
       "                    introduction_level  price_to_buy  price_to_sell  \\\n",
       "introduction_level               1.000         0.738          0.638   \n",
       "price_to_buy                     0.738         1.000          0.787   \n",
       "price_to_sell                    0.638         0.787          1.000   \n",
       "production_time                  0.354         0.120          0.048   \n",
       "\n",
       "                    production_time  \n",
       "introduction_level            0.354  \n",
       "price_to_buy                  0.120  \n",
       "price_to_sell                 0.048  \n",
       "production_time               1.000  "
      ]
     },
     "execution_count": 17,
     "metadata": {},
     "output_type": "execute_result"
    }
   ],
   "source": [
    "products[['introduction_level', 'price_to_buy', 'price_to_sell', 'production_time']].corr()"
   ]
  },
  {
   "cell_type": "markdown",
   "metadata": {},
   "source": [
    "Подготовим набор данных для построения моделей."
   ]
  },
  {
   "cell_type": "code",
   "execution_count": 18,
   "metadata": {},
   "outputs": [
    {
     "data": {
      "text/html": [
       "<div>\n",
       "<style>\n",
       "    .dataframe thead tr:only-child th {\n",
       "        text-align: right;\n",
       "    }\n",
       "\n",
       "    .dataframe thead th {\n",
       "        text-align: left;\n",
       "    }\n",
       "\n",
       "    .dataframe tbody tr th {\n",
       "        vertical-align: top;\n",
       "    }\n",
       "</style>\n",
       "<table border=\"1\" class=\"dataframe\">\n",
       "  <thead>\n",
       "    <tr style=\"text-align: right;\">\n",
       "      <th></th>\n",
       "      <th>product</th>\n",
       "      <th>avg_normed</th>\n",
       "      <th>avg_rank</th>\n",
       "      <th>avg_share</th>\n",
       "      <th>introduction_level</th>\n",
       "      <th>kind</th>\n",
       "      <th>name</th>\n",
       "      <th>price_to_buy</th>\n",
       "      <th>price_to_sell</th>\n",
       "      <th>production_time</th>\n",
       "    </tr>\n",
       "  </thead>\n",
       "  <tbody>\n",
       "    <tr>\n",
       "      <th>0</th>\n",
       "      <td>rubber</td>\n",
       "      <td>2.584</td>\n",
       "      <td>1.000</td>\n",
       "      <td>0.041</td>\n",
       "      <td>29</td>\n",
       "      <td>Товары с фабрик</td>\n",
       "      <td>Rubber</td>\n",
       "      <td>18</td>\n",
       "      <td>37</td>\n",
       "      <td>60</td>\n",
       "    </tr>\n",
       "    <tr>\n",
       "      <th>1</th>\n",
       "      <td>muffin</td>\n",
       "      <td>1.747</td>\n",
       "      <td>10.500</td>\n",
       "      <td>0.031</td>\n",
       "      <td>24</td>\n",
       "      <td>Товары с фабрик</td>\n",
       "      <td>Muffin</td>\n",
       "      <td>41</td>\n",
       "      <td>68</td>\n",
       "      <td>30</td>\n",
       "    </tr>\n",
       "    <tr>\n",
       "      <th>2</th>\n",
       "      <td>paper</td>\n",
       "      <td>1.634</td>\n",
       "      <td>3.000</td>\n",
       "      <td>0.035</td>\n",
       "      <td>18</td>\n",
       "      <td>Товары с фабрик</td>\n",
       "      <td>Paper</td>\n",
       "      <td>13</td>\n",
       "      <td>19</td>\n",
       "      <td>90</td>\n",
       "    </tr>\n",
       "    <tr>\n",
       "      <th>3</th>\n",
       "      <td>popcorn</td>\n",
       "      <td>1.595</td>\n",
       "      <td>5.600</td>\n",
       "      <td>0.040</td>\n",
       "      <td>14</td>\n",
       "      <td>Товары с фабрик</td>\n",
       "      <td>Pop Corn</td>\n",
       "      <td>6</td>\n",
       "      <td>12</td>\n",
       "      <td>30</td>\n",
       "    </tr>\n",
       "    <tr>\n",
       "      <th>4</th>\n",
       "      <td>wool</td>\n",
       "      <td>1.578</td>\n",
       "      <td>3.167</td>\n",
       "      <td>0.043</td>\n",
       "      <td>10</td>\n",
       "      <td>Товары с фабрик</td>\n",
       "      <td>Wool</td>\n",
       "      <td>11</td>\n",
       "      <td>15</td>\n",
       "      <td>240</td>\n",
       "    </tr>\n",
       "    <tr>\n",
       "      <th>5</th>\n",
       "      <td>milkshake</td>\n",
       "      <td>1.474</td>\n",
       "      <td>11.750</td>\n",
       "      <td>0.032</td>\n",
       "      <td>16</td>\n",
       "      <td>Товары с фабрик</td>\n",
       "      <td>Milk Shake</td>\n",
       "      <td>18</td>\n",
       "      <td>30</td>\n",
       "      <td>15</td>\n",
       "    </tr>\n",
       "    <tr>\n",
       "      <th>6</th>\n",
       "      <td>icecream</td>\n",
       "      <td>1.465</td>\n",
       "      <td>17.667</td>\n",
       "      <td>0.028</td>\n",
       "      <td>20</td>\n",
       "      <td>Товары с фабрик</td>\n",
       "      <td>Ice Cream</td>\n",
       "      <td>23</td>\n",
       "      <td>39</td>\n",
       "      <td>30</td>\n",
       "    </tr>\n",
       "    <tr>\n",
       "      <th>7</th>\n",
       "      <td>caramel</td>\n",
       "      <td>1.407</td>\n",
       "      <td>4.500</td>\n",
       "      <td>0.024</td>\n",
       "      <td>24</td>\n",
       "      <td>Товары с фабрик</td>\n",
       "      <td>Caramel</td>\n",
       "      <td>15</td>\n",
       "      <td>45</td>\n",
       "      <td>90</td>\n",
       "    </tr>\n",
       "    <tr>\n",
       "      <th>8</th>\n",
       "      <td>carrot</td>\n",
       "      <td>1.348</td>\n",
       "      <td>7.667</td>\n",
       "      <td>0.035</td>\n",
       "      <td>4</td>\n",
       "      <td>Семена</td>\n",
       "      <td>Морковь</td>\n",
       "      <td>2</td>\n",
       "      <td>5</td>\n",
       "      <td>10</td>\n",
       "    </tr>\n",
       "    <tr>\n",
       "      <th>9</th>\n",
       "      <td>shirt</td>\n",
       "      <td>1.305</td>\n",
       "      <td>14.500</td>\n",
       "      <td>0.035</td>\n",
       "      <td>12</td>\n",
       "      <td>Товары с фабрик</td>\n",
       "      <td>Shirt</td>\n",
       "      <td>17</td>\n",
       "      <td>45</td>\n",
       "      <td>60</td>\n",
       "    </tr>\n",
       "  </tbody>\n",
       "</table>\n",
       "</div>"
      ],
      "text/plain": [
       "     product  avg_normed  avg_rank  avg_share  introduction_level  \\\n",
       "0     rubber       2.584     1.000      0.041                  29   \n",
       "1     muffin       1.747    10.500      0.031                  24   \n",
       "2      paper       1.634     3.000      0.035                  18   \n",
       "3    popcorn       1.595     5.600      0.040                  14   \n",
       "4       wool       1.578     3.167      0.043                  10   \n",
       "5  milkshake       1.474    11.750      0.032                  16   \n",
       "6   icecream       1.465    17.667      0.028                  20   \n",
       "7    caramel       1.407     4.500      0.024                  24   \n",
       "8     carrot       1.348     7.667      0.035                   4   \n",
       "9      shirt       1.305    14.500      0.035                  12   \n",
       "\n",
       "              kind        name  price_to_buy  price_to_sell  production_time  \n",
       "0  Товары с фабрик      Rubber            18             37               60  \n",
       "1  Товары с фабрик      Muffin            41             68               30  \n",
       "2  Товары с фабрик       Paper            13             19               90  \n",
       "3  Товары с фабрик    Pop Corn             6             12               30  \n",
       "4  Товары с фабрик        Wool            11             15              240  \n",
       "5  Товары с фабрик  Milk Shake            18             30               15  \n",
       "6  Товары с фабрик   Ice Cream            23             39               30  \n",
       "7  Товары с фабрик     Caramel            15             45               90  \n",
       "8           Семена     Морковь             2              5               10  \n",
       "9  Товары с фабрик       Shirt            17             45               60  "
      ]
     },
     "execution_count": 18,
     "metadata": {},
     "output_type": "execute_result"
    }
   ],
   "source": [
    "reg_df = avg_normed.merge(avg_ranks, on='product')\n",
    "reg_df = reg_df.merge(avg_shares, on='product')\n",
    "reg_df = reg_df.merge(products, on='product')\n",
    "\n",
    "reg_df.head(10)"
   ]
  },
  {
   "cell_type": "markdown",
   "metadata": {},
   "source": [
    "Переменную kind превратим в бинарную: 0 для категории \"Семена\", 1 - для категории \"Промышленные товары\". Переменные product и name непосредственно в моделях использовать не будем, оставим их как справочные."
   ]
  },
  {
   "cell_type": "code",
   "execution_count": 19,
   "metadata": {},
   "outputs": [
    {
     "data": {
      "text/html": [
       "<div>\n",
       "<style>\n",
       "    .dataframe thead tr:only-child th {\n",
       "        text-align: right;\n",
       "    }\n",
       "\n",
       "    .dataframe thead th {\n",
       "        text-align: left;\n",
       "    }\n",
       "\n",
       "    .dataframe tbody tr th {\n",
       "        vertical-align: top;\n",
       "    }\n",
       "</style>\n",
       "<table border=\"1\" class=\"dataframe\">\n",
       "  <thead>\n",
       "    <tr style=\"text-align: right;\">\n",
       "      <th></th>\n",
       "      <th>avg_normed</th>\n",
       "      <th>avg_rank</th>\n",
       "      <th>avg_share</th>\n",
       "      <th>kind</th>\n",
       "      <th>price_to_buy</th>\n",
       "      <th>price_to_sell</th>\n",
       "      <th>production_time</th>\n",
       "      <th>introduction_level</th>\n",
       "    </tr>\n",
       "  </thead>\n",
       "  <tbody>\n",
       "    <tr>\n",
       "      <th>0</th>\n",
       "      <td>2.584</td>\n",
       "      <td>1.000</td>\n",
       "      <td>0.041</td>\n",
       "      <td>1</td>\n",
       "      <td>18</td>\n",
       "      <td>37</td>\n",
       "      <td>60</td>\n",
       "      <td>29</td>\n",
       "    </tr>\n",
       "    <tr>\n",
       "      <th>1</th>\n",
       "      <td>1.747</td>\n",
       "      <td>10.500</td>\n",
       "      <td>0.031</td>\n",
       "      <td>1</td>\n",
       "      <td>41</td>\n",
       "      <td>68</td>\n",
       "      <td>30</td>\n",
       "      <td>24</td>\n",
       "    </tr>\n",
       "    <tr>\n",
       "      <th>2</th>\n",
       "      <td>1.634</td>\n",
       "      <td>3.000</td>\n",
       "      <td>0.035</td>\n",
       "      <td>1</td>\n",
       "      <td>13</td>\n",
       "      <td>19</td>\n",
       "      <td>90</td>\n",
       "      <td>18</td>\n",
       "    </tr>\n",
       "    <tr>\n",
       "      <th>3</th>\n",
       "      <td>1.595</td>\n",
       "      <td>5.600</td>\n",
       "      <td>0.040</td>\n",
       "      <td>1</td>\n",
       "      <td>6</td>\n",
       "      <td>12</td>\n",
       "      <td>30</td>\n",
       "      <td>14</td>\n",
       "    </tr>\n",
       "    <tr>\n",
       "      <th>4</th>\n",
       "      <td>1.578</td>\n",
       "      <td>3.167</td>\n",
       "      <td>0.043</td>\n",
       "      <td>1</td>\n",
       "      <td>11</td>\n",
       "      <td>15</td>\n",
       "      <td>240</td>\n",
       "      <td>10</td>\n",
       "    </tr>\n",
       "    <tr>\n",
       "      <th>5</th>\n",
       "      <td>1.474</td>\n",
       "      <td>11.750</td>\n",
       "      <td>0.032</td>\n",
       "      <td>1</td>\n",
       "      <td>18</td>\n",
       "      <td>30</td>\n",
       "      <td>15</td>\n",
       "      <td>16</td>\n",
       "    </tr>\n",
       "    <tr>\n",
       "      <th>6</th>\n",
       "      <td>1.465</td>\n",
       "      <td>17.667</td>\n",
       "      <td>0.028</td>\n",
       "      <td>1</td>\n",
       "      <td>23</td>\n",
       "      <td>39</td>\n",
       "      <td>30</td>\n",
       "      <td>20</td>\n",
       "    </tr>\n",
       "    <tr>\n",
       "      <th>7</th>\n",
       "      <td>1.407</td>\n",
       "      <td>4.500</td>\n",
       "      <td>0.024</td>\n",
       "      <td>1</td>\n",
       "      <td>15</td>\n",
       "      <td>45</td>\n",
       "      <td>90</td>\n",
       "      <td>24</td>\n",
       "    </tr>\n",
       "    <tr>\n",
       "      <th>8</th>\n",
       "      <td>1.348</td>\n",
       "      <td>7.667</td>\n",
       "      <td>0.035</td>\n",
       "      <td>0</td>\n",
       "      <td>2</td>\n",
       "      <td>5</td>\n",
       "      <td>10</td>\n",
       "      <td>4</td>\n",
       "    </tr>\n",
       "    <tr>\n",
       "      <th>9</th>\n",
       "      <td>1.305</td>\n",
       "      <td>14.500</td>\n",
       "      <td>0.035</td>\n",
       "      <td>1</td>\n",
       "      <td>17</td>\n",
       "      <td>45</td>\n",
       "      <td>60</td>\n",
       "      <td>12</td>\n",
       "    </tr>\n",
       "  </tbody>\n",
       "</table>\n",
       "</div>"
      ],
      "text/plain": [
       "   avg_normed  avg_rank  avg_share  kind  price_to_buy  price_to_sell  \\\n",
       "0       2.584     1.000      0.041     1            18             37   \n",
       "1       1.747    10.500      0.031     1            41             68   \n",
       "2       1.634     3.000      0.035     1            13             19   \n",
       "3       1.595     5.600      0.040     1             6             12   \n",
       "4       1.578     3.167      0.043     1            11             15   \n",
       "5       1.474    11.750      0.032     1            18             30   \n",
       "6       1.465    17.667      0.028     1            23             39   \n",
       "7       1.407     4.500      0.024     1            15             45   \n",
       "8       1.348     7.667      0.035     0             2              5   \n",
       "9       1.305    14.500      0.035     1            17             45   \n",
       "\n",
       "   production_time  introduction_level  \n",
       "0               60                  29  \n",
       "1               30                  24  \n",
       "2               90                  18  \n",
       "3               30                  14  \n",
       "4              240                  10  \n",
       "5               15                  16  \n",
       "6               30                  20  \n",
       "7               90                  24  \n",
       "8               10                   4  \n",
       "9               60                  12  "
      ]
     },
     "execution_count": 19,
     "metadata": {},
     "output_type": "execute_result"
    }
   ],
   "source": [
    "X = reg_df[['avg_normed', 'avg_rank', 'avg_share', 'kind', 'price_to_buy', 'price_to_sell',\n",
    "            'production_time', 'introduction_level']]\n",
    "X.loc[:, 'kind'] = X.loc[:, 'kind'].apply(lambda x: 0 if x==u'Семена' else 1)\n",
    "X.head(10)"
   ]
  },
  {
   "cell_type": "markdown",
   "metadata": {},
   "source": [
    "Перейдем к моделированию."
   ]
  },
  {
   "cell_type": "code",
   "execution_count": 20,
   "metadata": {},
   "outputs": [],
   "source": [
    "import statsmodels.api as sm\n",
    "import statsmodels.formula.api as smf"
   ]
  },
  {
   "cell_type": "code",
   "execution_count": 21,
   "metadata": {},
   "outputs": [
    {
     "data": {
      "text/html": [
       "<table class=\"simpletable\">\n",
       "<caption>OLS Regression Results</caption>\n",
       "<tr>\n",
       "  <th>Dep. Variable:</th>        <td>avg_rank</td>     <th>  R-squared:         </th> <td>   0.451</td>\n",
       "</tr>\n",
       "<tr>\n",
       "  <th>Model:</th>                   <td>OLS</td>       <th>  Adj. R-squared:    </th> <td>   0.403</td>\n",
       "</tr>\n",
       "<tr>\n",
       "  <th>Method:</th>             <td>Least Squares</td>  <th>  F-statistic:       </th> <td>   11.41</td>\n",
       "</tr>\n",
       "<tr>\n",
       "  <th>Date:</th>             <td>Wed, 06 Dec 2017</td> <th>  Prob (F-statistic):</th> <td>1.19e-07</td>\n",
       "</tr>\n",
       "<tr>\n",
       "  <th>Time:</th>                 <td>22:24:36</td>     <th>  Log-Likelihood:    </th> <td> -240.91</td>\n",
       "</tr>\n",
       "<tr>\n",
       "  <th>No. Observations:</th>      <td>    63</td>      <th>  AIC:               </th> <td>   493.8</td>\n",
       "</tr>\n",
       "<tr>\n",
       "  <th>Df Residuals:</th>          <td>    57</td>      <th>  BIC:               </th> <td>   506.7</td>\n",
       "</tr>\n",
       "<tr>\n",
       "  <th>Df Model:</th>              <td>     5</td>      <th>                     </th>     <td> </td>   \n",
       "</tr>\n",
       "<tr>\n",
       "  <th>Covariance Type:</th>         <td>HAC</td>       <th>                     </th>     <td> </td>   \n",
       "</tr>\n",
       "</table>\n",
       "<table class=\"simpletable\">\n",
       "<tr>\n",
       "           <td></td>             <th>coef</th>     <th>std err</th>      <th>t</th>      <th>P>|t|</th>  <th>[0.025</th>    <th>0.975]</th>  \n",
       "</tr>\n",
       "<tr>\n",
       "  <th>Intercept</th>          <td>   19.9274</td> <td>    3.793</td> <td>    5.254</td> <td> 0.000</td> <td>   12.333</td> <td>   27.522</td>\n",
       "</tr>\n",
       "<tr>\n",
       "  <th>kind</th>               <td>   -5.0603</td> <td>    4.732</td> <td>   -1.069</td> <td> 0.289</td> <td>  -14.535</td> <td>    4.415</td>\n",
       "</tr>\n",
       "<tr>\n",
       "  <th>price_to_sell</th>      <td>    0.1303</td> <td>    0.060</td> <td>    2.157</td> <td> 0.035</td> <td>    0.009</td> <td>    0.251</td>\n",
       "</tr>\n",
       "<tr>\n",
       "  <th>production_time</th>    <td>    0.0287</td> <td>    0.011</td> <td>    2.538</td> <td> 0.014</td> <td>    0.006</td> <td>    0.051</td>\n",
       "</tr>\n",
       "<tr>\n",
       "  <th>price_to_buy</th>       <td>    0.2562</td> <td>    0.233</td> <td>    1.098</td> <td> 0.277</td> <td>   -0.211</td> <td>    0.723</td>\n",
       "</tr>\n",
       "<tr>\n",
       "  <th>introduction_level</th> <td>   -0.2482</td> <td>    0.288</td> <td>   -0.862</td> <td> 0.392</td> <td>   -0.825</td> <td>    0.329</td>\n",
       "</tr>\n",
       "</table>\n",
       "<table class=\"simpletable\">\n",
       "<tr>\n",
       "  <th>Omnibus:</th>       <td> 4.566</td> <th>  Durbin-Watson:     </th> <td>   0.771</td>\n",
       "</tr>\n",
       "<tr>\n",
       "  <th>Prob(Omnibus):</th> <td> 0.102</td> <th>  Jarque-Bera (JB):  </th> <td>   4.212</td>\n",
       "</tr>\n",
       "<tr>\n",
       "  <th>Skew:</th>          <td> 0.633</td> <th>  Prob(JB):          </th> <td>   0.122</td>\n",
       "</tr>\n",
       "<tr>\n",
       "  <th>Kurtosis:</th>      <td> 2.975</td> <th>  Cond. No.          </th> <td>    738.</td>\n",
       "</tr>\n",
       "</table>"
      ],
      "text/plain": [
       "<class 'statsmodels.iolib.summary.Summary'>\n",
       "\"\"\"\n",
       "                            OLS Regression Results                            \n",
       "==============================================================================\n",
       "Dep. Variable:               avg_rank   R-squared:                       0.451\n",
       "Model:                            OLS   Adj. R-squared:                  0.403\n",
       "Method:                 Least Squares   F-statistic:                     11.41\n",
       "Date:                Wed, 06 Dec 2017   Prob (F-statistic):           1.19e-07\n",
       "Time:                        22:24:36   Log-Likelihood:                -240.91\n",
       "No. Observations:                  63   AIC:                             493.8\n",
       "Df Residuals:                      57   BIC:                             506.7\n",
       "Df Model:                           5                                         \n",
       "Covariance Type:                  HAC                                         \n",
       "======================================================================================\n",
       "                         coef    std err          t      P>|t|      [0.025      0.975]\n",
       "--------------------------------------------------------------------------------------\n",
       "Intercept             19.9274      3.793      5.254      0.000      12.333      27.522\n",
       "kind                  -5.0603      4.732     -1.069      0.289     -14.535       4.415\n",
       "price_to_sell          0.1303      0.060      2.157      0.035       0.009       0.251\n",
       "production_time        0.0287      0.011      2.538      0.014       0.006       0.051\n",
       "price_to_buy           0.2562      0.233      1.098      0.277      -0.211       0.723\n",
       "introduction_level    -0.2482      0.288     -0.862      0.392      -0.825       0.329\n",
       "==============================================================================\n",
       "Omnibus:                        4.566   Durbin-Watson:                   0.771\n",
       "Prob(Omnibus):                  0.102   Jarque-Bera (JB):                4.212\n",
       "Skew:                           0.633   Prob(JB):                        0.122\n",
       "Kurtosis:                       2.975   Cond. No.                         738.\n",
       "==============================================================================\n",
       "\n",
       "Warnings:\n",
       "[1] Standard Errors are heteroscedasticity and autocorrelation robust (HAC) using 1 lags and without small sample correction\n",
       "\"\"\""
      ]
     },
     "execution_count": 21,
     "metadata": {},
     "output_type": "execute_result"
    }
   ],
   "source": [
    "model = smf.ols('avg_rank ~ kind + price_to_sell + production_time + price_to_buy + introduction_level', data=X).fit()\n",
    "results = model.get_robustcov_results(cov_type='HAC',maxlags=1)\n",
    "results.summary()"
   ]
  },
  {
   "cell_type": "markdown",
   "metadata": {},
   "source": [
    "Построим устойчивую к гетероскедастичности и автокорреляции (HAC) регрессионную модель. Наилучшее качество по метрикам R-squared, Adj. R-squared, AIC и BIC модель имеет при моделировании метрики avg_rank. Расмотренная выше базовая модель позволяет объяснить 45,1% вариации среднего ранга (R^2 = 0.451), такое качество модели является приемлимым."
   ]
  },
  {
   "cell_type": "markdown",
   "metadata": {},
   "source": [
    "В столбце P>|t| показаны p-значения переменных модели. Если соответсвующее значение больше 0.05, можно считать, что на 5%-ом уровне значимости (уверенность 95%) данная переменная значимого влияния на avg_rank не оказывает."
   ]
  },
  {
   "cell_type": "code",
   "execution_count": 22,
   "metadata": {},
   "outputs": [
    {
     "data": {
      "text/html": [
       "<table class=\"simpletable\">\n",
       "<caption>OLS Regression Results</caption>\n",
       "<tr>\n",
       "  <th>Dep. Variable:</th>        <td>avg_rank</td>     <th>  R-squared:         </th> <td>   0.430</td>\n",
       "</tr>\n",
       "<tr>\n",
       "  <th>Model:</th>                   <td>OLS</td>       <th>  Adj. R-squared:    </th> <td>   0.411</td>\n",
       "</tr>\n",
       "<tr>\n",
       "  <th>Method:</th>             <td>Least Squares</td>  <th>  F-statistic:       </th> <td>   22.86</td>\n",
       "</tr>\n",
       "<tr>\n",
       "  <th>Date:</th>             <td>Wed, 06 Dec 2017</td> <th>  Prob (F-statistic):</th> <td>4.16e-08</td>\n",
       "</tr>\n",
       "<tr>\n",
       "  <th>Time:</th>                 <td>22:24:36</td>     <th>  Log-Likelihood:    </th> <td> -242.11</td>\n",
       "</tr>\n",
       "<tr>\n",
       "  <th>No. Observations:</th>      <td>    63</td>      <th>  AIC:               </th> <td>   490.2</td>\n",
       "</tr>\n",
       "<tr>\n",
       "  <th>Df Residuals:</th>          <td>    60</td>      <th>  BIC:               </th> <td>   496.6</td>\n",
       "</tr>\n",
       "<tr>\n",
       "  <th>Df Model:</th>              <td>     2</td>      <th>                     </th>     <td> </td>   \n",
       "</tr>\n",
       "<tr>\n",
       "  <th>Covariance Type:</th>         <td>HAC</td>       <th>                     </th>     <td> </td>   \n",
       "</tr>\n",
       "</table>\n",
       "<table class=\"simpletable\">\n",
       "<tr>\n",
       "         <td></td>            <th>coef</th>     <th>std err</th>      <th>t</th>      <th>P>|t|</th>  <th>[0.025</th>    <th>0.975]</th>  \n",
       "</tr>\n",
       "<tr>\n",
       "  <th>Intercept</th>       <td>   15.7522</td> <td>    2.946</td> <td>    5.348</td> <td> 0.000</td> <td>    9.860</td> <td>   21.644</td>\n",
       "</tr>\n",
       "<tr>\n",
       "  <th>price_to_sell</th>   <td>    0.1624</td> <td>    0.025</td> <td>    6.580</td> <td> 0.000</td> <td>    0.113</td> <td>    0.212</td>\n",
       "</tr>\n",
       "<tr>\n",
       "  <th>production_time</th> <td>    0.0270</td> <td>    0.007</td> <td>    3.747</td> <td> 0.000</td> <td>    0.013</td> <td>    0.041</td>\n",
       "</tr>\n",
       "</table>\n",
       "<table class=\"simpletable\">\n",
       "<tr>\n",
       "  <th>Omnibus:</th>       <td> 1.491</td> <th>  Durbin-Watson:     </th> <td>   0.771</td>\n",
       "</tr>\n",
       "<tr>\n",
       "  <th>Prob(Omnibus):</th> <td> 0.475</td> <th>  Jarque-Bera (JB):  </th> <td>   1.498</td>\n",
       "</tr>\n",
       "<tr>\n",
       "  <th>Skew:</th>          <td> 0.341</td> <th>  Prob(JB):          </th> <td>   0.473</td>\n",
       "</tr>\n",
       "<tr>\n",
       "  <th>Kurtosis:</th>      <td> 2.676</td> <th>  Cond. No.          </th> <td>    285.</td>\n",
       "</tr>\n",
       "</table>"
      ],
      "text/plain": [
       "<class 'statsmodels.iolib.summary.Summary'>\n",
       "\"\"\"\n",
       "                            OLS Regression Results                            \n",
       "==============================================================================\n",
       "Dep. Variable:               avg_rank   R-squared:                       0.430\n",
       "Model:                            OLS   Adj. R-squared:                  0.411\n",
       "Method:                 Least Squares   F-statistic:                     22.86\n",
       "Date:                Wed, 06 Dec 2017   Prob (F-statistic):           4.16e-08\n",
       "Time:                        22:24:36   Log-Likelihood:                -242.11\n",
       "No. Observations:                  63   AIC:                             490.2\n",
       "Df Residuals:                      60   BIC:                             496.6\n",
       "Df Model:                           2                                         \n",
       "Covariance Type:                  HAC                                         \n",
       "===================================================================================\n",
       "                      coef    std err          t      P>|t|      [0.025      0.975]\n",
       "-----------------------------------------------------------------------------------\n",
       "Intercept          15.7522      2.946      5.348      0.000       9.860      21.644\n",
       "price_to_sell       0.1624      0.025      6.580      0.000       0.113       0.212\n",
       "production_time     0.0270      0.007      3.747      0.000       0.013       0.041\n",
       "==============================================================================\n",
       "Omnibus:                        1.491   Durbin-Watson:                   0.771\n",
       "Prob(Omnibus):                  0.475   Jarque-Bera (JB):                1.498\n",
       "Skew:                           0.341   Prob(JB):                        0.473\n",
       "Kurtosis:                       2.676   Cond. No.                         285.\n",
       "==============================================================================\n",
       "\n",
       "Warnings:\n",
       "[1] Standard Errors are heteroscedasticity and autocorrelation robust (HAC) using 1 lags and without small sample correction\n",
       "\"\"\""
      ]
     },
     "execution_count": 22,
     "metadata": {},
     "output_type": "execute_result"
    }
   ],
   "source": [
    "model = smf.ols('avg_rank ~ price_to_sell + production_time', data=X).fit()\n",
    "results = model.get_robustcov_results(cov_type='HAC',maxlags=1)\n",
    "results.summary()"
   ]
  },
  {
   "cell_type": "markdown",
   "metadata": {},
   "source": [
    "Последовательно убирая переменные с p-значениями больше 0.05 получим урезанный вариант модели, в котором сохранены только значимые переменные. Качество модели по критериям R^2 adjusted, AIC и BIC возрасло, оценки коэффициентов стали более точными, p-значения стали очень маленькими, что говорит о гарантированной значимости."
   ]
  },
  {
   "cell_type": "markdown",
   "metadata": {},
   "source": [
    "Изменение типа функциональных связей: замена всех или части переменных на их логарифмы, добавление квадратов и кубов переменных, включение kind в качестве множителя улучшения модели не дало, данная модель является наилучшей из построенных."
   ]
  },
  {
   "cell_type": "markdown",
   "metadata": {},
   "source": [
    "# Выводы"
   ]
  },
  {
   "cell_type": "markdown",
   "metadata": {},
   "source": [
    " Наиболее часто удаляемые продукты - резина, маффин, бумага, попкорн и шерсть."
   ]
  },
  {
   "cell_type": "markdown",
   "metadata": {},
   "source": [
    "Мы могли бы составить рейтинг более однозначно, если бы знали, сколько всего было заказов с данными продуктами (не только удаленных)."
   ]
  },
  {
   "cell_type": "markdown",
   "metadata": {},
   "source": [
    "Статистически значимое влияние на частоту удаления заказов с данным продуктом имеют только две характеристики продукта: цена продажи из амбара price_to_sell и время производства или роста в минутах production_time. Обе переменные влияют линейно и отрицательно (чем меньше ранг, тем выше позиция продукта в рейтинге). Это вполне логично: если продукт можно по высокой цене продать из амбара, игрок охотнее сбросит заказ и продаст продукты альтернативным способом, через амбар. Заказы с продуктами, которые долго производить, также скорее будут сброшены."
   ]
  },
  {
   "cell_type": "code",
   "execution_count": 23,
   "metadata": {},
   "outputs": [
    {
     "data": {
      "text/plain": [
       "production_time    124.918\n",
       "price_to_sell      106.520\n",
       "dtype: float64"
      ]
     },
     "execution_count": 23,
     "metadata": {},
     "output_type": "execute_result"
    }
   ],
   "source": [
    "products[['production_time', 'price_to_sell']].mean()"
   ]
  },
  {
   "cell_type": "code",
   "execution_count": 24,
   "metadata": {},
   "outputs": [
    {
     "data": {
      "text/plain": [
       "array([[<matplotlib.axes._subplots.AxesSubplot object at 0x1c17a09c90>,\n",
       "        <matplotlib.axes._subplots.AxesSubplot object at 0x1c17a52b50>]], dtype=object)"
      ]
     },
     "execution_count": 24,
     "metadata": {},
     "output_type": "execute_result"
    },
    {
     "data": {
      "image/png": "[encoded data removed]",
      "text/plain": [
       "<matplotlib.figure.Figure at 0x111c941d0>"
      ]
     },
     "metadata": {},
     "output_type": "display_data"
    }
   ],
   "source": [
    "products[['production_time', 'price_to_sell']].hist()"
   ]
  },
  {
   "cell_type": "markdown",
   "metadata": {},
   "source": [
    "Распределения характеристик price_to_sell и production_time у продуктов практически одинаковые, средние значения близкие, 124.918 для production_time и 106.250 для price_to_sell. При этом значения коэффициентов при этих переменных в модели сильно различаются: 0.1624 для price_to_sell и 0.0270 для production_time."
   ]
  },
  {
   "cell_type": "markdown",
   "metadata": {},
   "source": [
    "Из этого можно сделать вывод, что цена продажи в амбаре оказывает значительно более сильное влияние на решение игрока удалить заказ, чем время производства или роста, если быть точным, в 5.12 раз более сильное (расчет см. ниже)."
   ]
  },
  {
   "cell_type": "code",
   "execution_count": 25,
   "metadata": {},
   "outputs": [
    {
     "data": {
      "text/plain": [
       "5.1159486549102136"
      ]
     },
     "execution_count": 25,
     "metadata": {},
     "output_type": "execute_result"
    }
   ],
   "source": [
    "(106.250*0.1624)/(124.918*0.0270)"
   ]
  },
  {
   "cell_type": "markdown",
   "metadata": {},
   "source": [
    "Построенная модель объясняет 43% вариации моделируемого показателя, вероятно, есть и другие важные факторы, влияющие на склонность игрока удалять заказы с данным продуктом, данные по которым не были собраны. Например, это может быть стоимость объектов, которые нужно последовательно построить для производства данного продукта."
   ]
  }
 ],
 "metadata": {
  "kernelspec": {
   "display_name": "Python 2",
   "language": "python",
   "name": "python2"
  },
  "language_info": {
   "codemirror_mode": {
    "name": "ipython",
    "version": 2
   },
   "file_extension": ".py",
   "mimetype": "text/x-python",
   "name": "python",
   "nbconvert_exporter": "python",
   "pygments_lexer": "ipython2",
   "version": "2.7.14"
  }
 },
 "nbformat": 4,
 "nbformat_minor": 2
}
